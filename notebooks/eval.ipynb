{
 "cells": [
  {
   "cell_type": "code",
   "execution_count": 16,
   "metadata": {},
   "outputs": [
    {
     "name": "stdout",
     "output_type": "stream",
     "text": [
      "eer: 10.384217784960404\tthreshold: -4.225950717926025\n",
      "\n"
     ]
    }
   ],
   "source": [
    "import sys\n",
    "import os.path\n",
    "import numpy as np\n",
    "import pandas\n",
    "import eval_metrics_DF as em\n",
    "\n",
    "\n",
    "def eval_to_score_file(score_file, cm_key_file):\n",
    "    # CM key file is the metadata file that contains the ground truth labels for the eval set\n",
    "    # score file is the output of the system that contains the scores for the eval set\n",
    "    # phase is the phase of the eval set (dev or eval)\n",
    "\n",
    "    cm_data = pandas.read_csv(cm_key_file, sep=' ', header=None)\n",
    "    cm_data.columns = ['utt', 'subset', 'label']\n",
    "    submission_scores = pandas.read_csv(\n",
    "        score_file, sep=' ', header=None, skipinitialspace=True)\n",
    "    submission_scores.columns = ['utt', 'score']\n",
    "    # # check here for progress vs eval set\n",
    "    cm_scores = submission_scores.merge(\n",
    "        cm_data, left_on='utt', right_on='utt', how='inner')\n",
    "\n",
    "    bona_cm = cm_scores[cm_scores['label'] == 'bonafide']['score'].values\n",
    "    spoof_cm = cm_scores[cm_scores['label'] == 'spoof']['score'].values\n",
    "\n",
    "    eer_cm, th = em.compute_eer(bona_cm, spoof_cm)\n",
    "    out_data = \"eer: {}\\tthreshold: {}\\n\".format(100*eer_cm, th)\n",
    "    print(out_data)\n",
    "    # return eer_cm\n",
    "\n",
    "\n",
    "eval_to_score_file(\"/home/hungdx/code/tcm_add/Scores/avg_5_best_4_LA19_multiview_kd_logist_eval_itw.txt\",\n",
    "      \"/home/hungdx/code/tcm_add/itw.txt\")"
   ]
  }
 ],
 "metadata": {
  "kernelspec": {
   "display_name": "base",
   "language": "python",
   "name": "python3"
  },
  "language_info": {
   "codemirror_mode": {
    "name": "ipython",
    "version": 3
   },
   "file_extension": ".py",
   "mimetype": "text/x-python",
   "name": "python",
   "nbconvert_exporter": "python",
   "pygments_lexer": "ipython3",
   "version": "3.12.7"
  }
 },
 "nbformat": 4,
 "nbformat_minor": 2
}
