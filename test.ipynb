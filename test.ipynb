{
    "cells": [
        {
            "cell_type": "code",
            "execution_count": 7,
            "metadata": {},
            "outputs": [],
            "source": [
                "import pandas as pd\n",
                "\n",
                "protocol = pd.read_csv(\n",
                "    '/nvme2/Datasets/intern_2024_jan31/protocol_812.txt', sep=' ', header=None)\n",
                "protocol.columns = ['filename', 'subset', 'unk', 'label']\n",
                "\n",
                "\n",
                "# Insert a new column with value is eval\n",
                "# protocol.insert(1, 'subset', 'eval')\n",
                "\n",
                "# remove the third column\n",
                "protocol = protocol.drop(columns=['unk'])\n",
                "\n",
                "# # Save the new protocol\n",
                "protocol.to_csv('/nvme2/Datasets/intern_2024_jan31/protocol_812_eval.txt',\n",
                "                sep=' ', index=False, header=False)"
            ]
        }
    ],
    "metadata": {
        "kernelspec": {
            "display_name": "base",
            "language": "python",
            "name": "python3"
        },
        "language_info": {
            "codemirror_mode": {
                "name": "ipython",
                "version": 3
            },
            "file_extension": ".py",
            "mimetype": "text/x-python",
            "name": "python",
            "nbconvert_exporter": "python",
            "pygments_lexer": "ipython3",
            "version": "3.11.5"
        }
    },
    "nbformat": 4,
    "nbformat_minor": 2
}