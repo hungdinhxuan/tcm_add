{
 "cells": [
  {
   "cell_type": "code",
   "execution_count": 6,
   "metadata": {},
   "outputs": [],
   "source": [
    "import pandas as pd\n",
    "\n",
    "protocol = pd.read_csv('/data/hungdx/Datasets/protocol.txt', sep=' ', header=None)\n",
    "protocol.columns = ['filename', 'label', 'subset']\n",
    "\n",
    "protocol = protocol[['filename', 'subset', 'label']]\n",
    "\n",
    "protocol\n",
    "protocol.to_csv('/data/hungdx/Datasets/protocol.txt', sep=' ', index=False, header=False)"
   ]
  }
 ],
 "metadata": {
  "kernelspec": {
   "display_name": "base",
   "language": "python",
   "name": "python3"
  },
  "language_info": {
   "codemirror_mode": {
    "name": "ipython",
    "version": 3
   },
   "file_extension": ".py",
   "mimetype": "text/x-python",
   "name": "python",
   "nbconvert_exporter": "python",
   "pygments_lexer": "ipython3",
   "version": "3.11.5"
  }
 },
 "nbformat": 4,
 "nbformat_minor": 2
}
