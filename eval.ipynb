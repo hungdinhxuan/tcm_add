{
 "cells": [
  {
   "cell_type": "code",
   "execution_count": 26,
   "metadata": {},
   "outputs": [
    {
     "name": "stdout",
     "output_type": "stream",
     "text": [
      "/home/hungdx/code/tcm_add/Scores/DF_avg_5_best_baseline_eval_MLAAD.txt\n",
      "Accuracy: 90.00\n",
      "\n",
      "\n"
     ]
    }
   ],
   "source": [
    "import pandas as pd\n",
    "from sklearn.metrics import confusion_matrix, ConfusionMatrixDisplay, accuracy_score, f1_score, recall_score, precision_score, det_curve\n",
    "full_df = pd.read_csv(\n",
    "    \"MLAAD/protocol.txt\", sep=\" \", header=None)\n",
    "\n",
    "full_df.columns = [\"utt\", \"subset\", \"label\"]\n",
    "\n",
    "# BASE_DIR = \"/nvme2/hungdx/tcm_add/Scores/CNSL_Multiview/ConformerTCM_LargeCorpus_eval_MLAAD\"\n",
    "# list_dir = os.listdir(\n",
    "#     BASE_DIR)\n",
    "\n",
    "# list_dir = [os.path.join(BASE_DIR, x) for x in list_dir]\n",
    "# list_dir = sorted(list_dir)\n",
    "\n",
    "#for score_file in list_dir:\n",
    "score_file = \"/home/hungdx/code/tcm_add/Scores/DF_avg_5_best_baseline_eval_MLAAD.txt\"\n",
    "pred_df = pd.read_csv(score_file, sep=\" \", header=None)\n",
    "print(score_file)\n",
    "pred_df.columns = [\"utt\", \"spoof\", \"score\"]\n",
    "pred_df = pred_df.drop_duplicates(subset=['utt'])\n",
    "\n",
    "# pred_df['utt'] = pred_df['utt'].apply(lambda x: x.split('/')[-1].split('.')[0])\n",
    "\n",
    "# if spoof < score, then bonafide, else spoof\n",
    "pred_df['pred'] = pred_df.apply(\n",
    "    lambda x: 'bonafide' if x['spoof'] < x['score'] else 'spoof', axis=1)\n",
    "\n",
    "# merge eval_df and pred_df on utt\n",
    "res_df = pd.merge(full_df, pred_df, on='utt')\n",
    "\n",
    "print(\"Accuracy: {:.2f}\".format(accuracy_score(res_df[\"label\"], res_df[\"pred\"])*100))\n",
    "print(\"\\n\")"
   ]
  },
  {
   "cell_type": "code",
   "execution_count": 9,
   "metadata": {},
   "outputs": [],
   "source": [
    "## add column to df\n",
    "import pandas as pd\n",
    "\n",
    "\n",
    "df = pd.read_csv(\"/home/hungdx/code/tcm_add/in_the_wild.txt\", sep=\" \", header=None)\n",
    "df.columns = [\"utt\", \"label\"]\n",
    "\n",
    "df['subset'] = 'eval'\n",
    "\n",
    "\n",
    "# Order of columns should be: utt, subset, label\n",
    "df = df[['utt', 'subset', 'label']]\n",
    "\n",
    "df.to_csv(\"protocol.txt\", sep=\" \", header=False, index=False)"
   ]
  }
 ],
 "metadata": {
  "kernelspec": {
   "display_name": "base",
   "language": "python",
   "name": "python3"
  },
  "language_info": {
   "codemirror_mode": {
    "name": "ipython",
    "version": 3
   },
   "file_extension": ".py",
   "mimetype": "text/x-python",
   "name": "python",
   "nbconvert_exporter": "python",
   "pygments_lexer": "ipython3",
   "version": "3.12.7"
  }
 },
 "nbformat": 4,
 "nbformat_minor": 2
}
